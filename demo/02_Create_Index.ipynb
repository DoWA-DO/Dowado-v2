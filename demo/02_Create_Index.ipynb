{
 "cells": [
  {
   "cell_type": "markdown",
   "metadata": {},
   "source": [
    "# 2. 벡터 데이터베이스 구축\n",
    "\n",
    "---\n",
    "\n",
    "- 수집한 커리어넷 데이터(직업백과, 전공정보, 대학정보)를 Chroma 벡터 데이터베이스에 저장"
   ]
  },
  {
   "cell_type": "markdown",
   "metadata": {},
   "source": [
    "# 1) 라이브러리 설치"
   ]
  },
  {
   "cell_type": "code",
   "execution_count": 1,
   "metadata": {},
   "outputs": [],
   "source": [
    "%%capture --no-stderr\n",
    "%pip install -U --quiet langchain-community tiktoken langchain-openai langchainhub chromadb langchain langgraph langchain-text-splitters \"unstructured[md]\" nltk tqdm"
   ]
  },
  {
   "cell_type": "markdown",
   "metadata": {},
   "source": [
    "# 2) 스크래핑한 데이터 분할(Split)"
   ]
  },
  {
   "cell_type": "code",
   "execution_count": 2,
   "metadata": {},
   "outputs": [],
   "source": [
    "from langchain.text_splitter import MarkdownHeaderTextSplitter, RecursiveCharacterTextSplitter\n",
    "\n",
    "\n",
    "# 스크래핑한 데이터 : 직업백과, 전공(학과)정보, 대학정보\n",
    "file_paths = [\n",
    "    \"../demo/result/CareerNet_CareerInfo.md\",\n",
    "    \"../demo/result/CareerNet_MajorInfo.md\",\n",
    "    \"../demo/result/CareerNet_UnivInfo.md\"\n",
    "]\n",
    "\n",
    "# 파일 읽기\n",
    "file_contents = []\n",
    "for file_path in file_paths:\n",
    "    with open(file_path, 'r', encoding='utf-8') as file:\n",
    "        content = file.read()\n",
    "        file_contents.append(content)\n",
    "\n",
    "# MarkdownHeaderTextSplitter를 사용하여 '마크다운 헤더'를 기준으로 청크로 분할\n",
    "headers_to_split_on = [\n",
    "    (\"#\", \"Header 1\"),\n",
    "    (\"##\", \"Header 2\"),\n",
    "    (\"###\", \"Header 3\"),\n",
    "]\n",
    "markdown_splitter = MarkdownHeaderTextSplitter(\n",
    "    headers_to_split_on=headers_to_split_on, # 분할할 헤더 기준\n",
    "    strip_headers=False, # 청크에 헤더 값 제거 X (청크에 헤더 값 포함시킴)\n",
    ")\n",
    "\n",
    "# 분할된 결과를 다시 RecursiveCharacterTextSplitter으로 분할\n",
    "# 제목3의 내용이 하나의 청크에 전부 다 담기게 설정함. \n",
    "chunk_size = 700     # 분할할 청크의 크기\n",
    "chunk_overlap = 120  # 분할할 청크 간의 중복 문자 수\n",
    "text_splitter = RecursiveCharacterTextSplitter(\n",
    "    chunk_size=chunk_size, chunk_overlap=chunk_overlap\n",
    ")    \n",
    "\n",
    "# 분할\n",
    "docs_list = []\n",
    "for content in file_contents:\n",
    "    md_header_splits = markdown_splitter.split_text(content)\n",
    "    splits = text_splitter.split_documents(md_header_splits)\n",
    "    docs_list.append(splits)"
   ]
  },
  {
   "cell_type": "markdown",
   "metadata": {},
   "source": [
    "## Split 데이터 확인\n",
    "\n",
    "---"
   ]
  },
  {
   "cell_type": "code",
   "execution_count": 13,
   "metadata": {},
   "outputs": [
    {
     "name": "stdout",
     "output_type": "stream",
     "text": [
      "<class 'list'>\n",
      "<class 'list'>\n",
      "<class 'langchain_core.documents.base.Document'>\n",
      "\n",
      "<class 'list'>\n",
      "<class 'langchain_core.documents.base.Document'>\n"
     ]
    }
   ],
   "source": [
    "print(type(docs_list))\n",
    "print(type(docs_list[0]))    # 문서 1개 타입\n",
    "print(type(docs_list[0][0])) # 청크 한개 타입"
   ]
  },
  {
   "cell_type": "code",
   "execution_count": null,
   "metadata": {},
   "outputs": [],
   "source": [
    "# Split 결과 확인\n",
    "dict = {0:'직업백과', 1:'전공정보', 2:'대학정보'}\n",
    "for i, docs in enumerate(docs_list):\n",
    "    print(f'==========[\"{dict[i]}\" 데이터 ]===========')\n",
    "    for header in docs[:3]:  # 각 리스트에서 처음 세 개의 항목만 선택\n",
    "        print(f\"{header.page_content}\")\n",
    "        print(f\"{header.metadata}\", end=\"\\n------------------------\\n\")"
   ]
  },
  {
   "cell_type": "markdown",
   "metadata": {},
   "source": [
    "---"
   ]
  },
  {
   "cell_type": "markdown",
   "metadata": {},
   "source": [
    "# 3) 분할된 청크로 벡터 데이터베이스 구축\n",
    "\n",
    "- 임베딩 모델 후보\n",
    "    - ❎ intfloat/e5-small : \n",
    "    - ✅ BAAI/bge-m3\n",
    "    - BM-K/KoSimCSE-roberta-multitask\n",
    "    - intfloat/multilingual-e5-large-instruct"
   ]
  },
  {
   "cell_type": "code",
   "execution_count": 4,
   "metadata": {},
   "outputs": [
    {
     "name": "stderr",
     "output_type": "stream",
     "text": [
      "/Users/ormor/root/DoWADO/Dowado-v2-Server/.venv/lib/python3.11/site-packages/sentence_transformers/cross_encoder/CrossEncoder.py:13: TqdmWarning: IProgress not found. Please update jupyter and ipywidgets. See https://ipywidgets.readthedocs.io/en/stable/user_install.html\n",
      "  from tqdm.autonotebook import tqdm, trange\n"
     ]
    }
   ],
   "source": [
    "from langchain_huggingface.embeddings import HuggingFaceEmbeddings\n",
    "from langchain.vectorstores import Chroma\n",
    "from tqdm import tqdm\n",
    "\n",
    "\n",
    "# 임베딩 모델 설정\n",
    "model_name = \"BAAI/bge-m3\"\n",
    "hf_embeddings = HuggingFaceEmbeddings(\n",
    "    model_name=model_name,\n",
    "    model_kwargs = {'device': 'cpu'}, # default\n",
    "    encode_kwargs = {'normalize_embeddings': False}, # default\n",
    ")\n",
    "\n",
    "persist_dir = \"./chroma_db\" # 벡터 DB 저장경로\n",
    "batch_size = 1000  # 한 번에 처리할 배치 크기\n",
    "\n",
    "# docs_list와 컬렉션 이름 매핑\n",
    "collections = {\n",
    "    \"careernet_job_db\": docs_list[0],   # 직업백과 데이터\n",
    "    \"careernet_major_db\": docs_list[1], # 학과(전공) 데이터\n",
    "    \"careernet_univ_db\": docs_list[2]   # 대학 데이터\n",
    "}"
   ]
  },
  {
   "cell_type": "code",
   "execution_count": null,
   "metadata": {},
   "outputs": [],
   "source": [
    "# 각 컬렉션에 대해 벡터스토어 생성 및 임베딩 수행\n",
    "for collection_name, docs in collections.items():\n",
    "    for i in tqdm(range(0, len(docs), batch_size), desc=f\"Embedding {collection_name}\"):\n",
    "        batch_docs = docs[i:i + batch_size]  # 배치로 문서 나누기\n",
    "\n",
    "        # 벡터 스토어 생성 및 저장\n",
    "        vectorstore = Chroma.from_documents(\n",
    "            documents=batch_docs,\n",
    "            collection_name=collection_name,\n",
    "            embedding=hf_embeddings,\n",
    "            persist_directory=persist_dir\n",
    "        )"
   ]
  },
  {
   "cell_type": "markdown",
   "metadata": {},
   "source": [
    "# 4) 쿼리 테스트\n",
    "\n",
    "---\n",
    "- Chroma 벡터 데이터베이스 불러온 후, Retrievr로 변환\n",
    "- 리트리버 유사도 검색 방식에 따른 테스트 필요 (similarity, mmr, similarity_score_threshold)\n",
    "    - similarity : 가장 유사한 문서 검색 (필터링 X)\n",
    "        - 쿼리와 가장 유사한 벡터를 기준으로 문서 반환, Cosine similarity / Euclidean distance\n",
    "    - mmr : 유사성 + 다양성 기반 검색\n",
    "        - MMR(Maximal Marginal Relevance)방식은 쿼리에 대한 관련 항목을 검색할 때 검색된 문서의 중복 을 피하는 방법 중 하나임. 단순히 가장 관련성 높은 항목들만을 검색하는 대신, MMR은 쿼리에 대한 문서의 관련성 과 이미 선택된 문서들과의 차별성을 동시에 고려함. (다양성을 고려한 방식)\n",
    "    - similarity_score_threshold : 가장 유사한 문서 검색, 유사도 점수 기준 보다 낮으면 필터링\n",
    "        - 임계값을 적절히 설정함으로써 관련성이 낮은 문서를 필터링 하고, 질의와 가장 유사한 문서만 선별 / {\"score_threshold\": 0.8} 으로하면, 유사도 점수가 0.8 이상인 문서만 반환됨\n",
    "\n",
    "- vectorstore.as_retriever 파라미터\n",
    "    - search_type : 검색 알고리즘(검색방식)\n",
    "    - search_kwargs: 추가 검색 옵션\n",
    "        - k: 반환할 문서 수 (기본값: 4)\n",
    "        - score_threshold: similarity_score_threshold 검색의 최소 유사도 임계값\n",
    "        - fetch_k: MMR 알고리즘에 전달할 문서 수 (기본값: 20)\n",
    "        - lambda_mult: MMR 결과의 다양성 조절 (0-1 사이, 기본값: 0.5)\n",
    "        - filter: 문서 메타데이터 기반 필터링\n",
    "\n",
    "- 참고\n",
    "    - MMR (Maximal Marginal Relevance) 알고리즘으로 검색 결과의 다양성 조절 가능\n",
    "    - 메타데이터 필터링으로 특정 조건의 문서만 검색 가능\n",
    "    - tags 매개변수를 통해 검색기에 태그 추가 가능\n",
    "\n",
    "- 주의사항\n",
    "    - search_type과 search_kwargs의 적절한 조합 필요\n",
    "    - MMR 사용 시 fetch_k와 k 값의 균형 조절 필요\n",
    "    - score_threshold 설정 시 너무 높은 값은 검색 결과가 없을 수 있음\n",
    "    - 필터 사용 시 데이터셋의 메타데이터 구조 정확히 파악 필요\n",
    "    - lambda_mult 값이 0에 가까울수록 다양성이 높아지고, 1에 가까울수록 유사성이 높아짐"
   ]
  },
  {
   "cell_type": "markdown",
   "metadata": {},
   "source": [
    "## [1] 직업백과\n",
    "\n",
    "- 모바일앱개발자와 시스템소프트웨어개발자의 차이점은 무엇인가요?\n",
    "- 시각디자이너의 취업 방법과 관련된 진로 준비는 어떻게 하나요?\n",
    "- 소프트웨어 개발에 관심이 많은데 관련된 구체적인 직업에는 어떤게 있을까요?\n",
    "- 교사가 되려면 필요한 어떤 기술이나 지식이 필요할까요?\n",
    "- 향후 아나운서 직업 전망은 어떻게 될까요?\n",
    "- 소프트웨어에 관심이 많은데, 개발은 적성에 안맞는거 같아요. 관련된 직업에는 어떤게 있을까요? (응용)\n",
    "- 데이터 관련 직군으로 나아가려면 어떤 학과를 전공하는게 좋을까요? (응용)\n",
    "\n",
    "> 단순히 정보를 묻는 질문에는 잘 대답(검색)하지만, 여러 데이터를 비교,분석해야하는 응용 질문에는 잘 대답(검색)하지 못함."
   ]
  },
  {
   "cell_type": "code",
   "execution_count": null,
   "metadata": {},
   "outputs": [],
   "source": [
    "# 직업백과 벡터 데이터베이스 불러오기\n",
    "vectorstore = Chroma(\n",
    "    embedding_function=hf_embeddings,  # 사용한 임베딩 모델과 동일한 함수\n",
    "    persist_directory=persist_dir,     # 벡터 데이터베이스가 저장된 경로\n",
    "    collection_name=\"careernet_job_db\" # 불러올 컬렉션 이름\n",
    ")"
   ]
  },
  {
   "cell_type": "code",
   "execution_count": 36,
   "metadata": {},
   "outputs": [
    {
     "name": "stdout",
     "output_type": "stream",
     "text": [
      "### 결과 1 ###\n",
      "일단 아까 말씀 드린 것처럼 제일 중요한 것은 내가 어떤 사람인지를 파악해야 될 것 같아요. 내가 어떤 것을 좋아하고 어떤 것을 싫어하고. 학생들이 적성이라고 하면 대부분 나중에 졸업하면 돈 많이 버나 이런 것이 적성이라고 생각하거든요. 말씀 드린 것처럼 가장 기본적인 것은 교사로서 내가 적성을 가지고 있는가 지금 아까 제가 다양한 진로를 가지고 있다라고 말씀은 드렸지만 그것은 변경이 가능하다는 것이지 기본적으로는 교사를 길러내는 곳이기 때문에 내가 일단 첫째는 교사로서 어떤 비전이나 적성을 가지고 있는가라는 것을 먼저 생각하고 있었으면 좋겠습니다. 또 그 다음에는 학생들이 대부분 면접 와서 얘기를 하면 그런 식으로 얘기를 해요. 나는 어려서부터 교사가 참 좋았었고 누가 좋았었고 이런 식으로 얘기를 해요. 그러면 면접관이 그 다음에 당연히 질문하는 것이 그러면 아무 데나 가지 왜 사회교육학과를 굳이 왔느냐고 하면 의외로 대답을 잘 못 해요. 심지어 이 일반 사회교육학과에서 뭘 가르치는지 조차도 모르는 경우도 있어요. 자기가 선택을 하고 싶어도 학교에서 선택을 안 해 줘서 못 듣는 수도 있거든요. 그렇다고 하면 학교에서는 그렇게 안 했지만 본인이 그것을 커버할 수 있도록 경험해 볼 수 있었으면 좋겠습니다. 어떤 캠프도 있을 것이고 책을 사다가 읽어보는 방법들도 있을 것이고 그런 식으로 해서 자기가 뭔가 의식적으로 노력을 해서 일단\n",
      "{'Header 1': '사회교육과', 'Header 2': '인터뷰', 'Header 3': '내용:'}\n",
      "\n",
      "\n",
      "### 결과 2 ###\n",
      "> 질문 : 이 학과에 입학하면 가장 중요한 공부는 어떤 내용인가요?  \n",
      "이 학과를 입학하는 학생들의 대부분은 중등학교 교사가 됩니다. 좋은 지구과학(과학) 교사가 되기 위해서는 전공 공부뿐만 아니라 교사로서 자질을 갖추는 것이 중요하다고 생각합니다. 가장 중요한 공부는 천문학, 대기과학, 지질학, 지구 물리학, 해양학과 같은 지구과학 내용과 관련된 기초적인 전공을 열심히 이수하는 것이 필요하고, 지구과학 교육론과 같은 교과 교육 관련 전공을 충실히 공부하는 것이 중요합니다. 이러한 전공 공부 이외에 사범대학에 입학해 교사를 꿈꾸는 학생들이 갖추어야 할 자질인 교직 사명감, 인성, 리더십 등의 자질을 갖추는 것이 필요하다고 생각합니다.  \n",
      "> 질문 : 이 학과에서 공부하는 학생들이 겪는 어려움은 어떤 점이 있나요?  \n",
      "이 학과 학생들이 겪는 어려움은 학부 과정 중 임용 시험(중등학교 교사 임용 후보자 선정 경쟁시험)을 준비하는 것입니다. 이 학과 학생들이 졸업 후 국공립 교사가 되기 위해서는 이 시험을 통과해야 합니다. 학부생들은 학사학위와 교사자격증 취득을 위한 전공과목을 이수하는 것이 바쁘기 때문에 시험을 동시에 준비하는 데 어려움을 겪는 학생들이 있습니다. 그렇지만 학과의 지원을 통해 대부분 시험에 합격하여 좋은 교사로 근무하고 있습니다.  \n",
      "> 질문 : 이 학과가 가진 특징이나 장점은 무엇인가요?\n",
      "{'Header 1': '지구과학교육과', 'Header 2': '인터뷰', 'Header 3': '내용:'}\n",
      "\n",
      "\n",
      "### 결과 3 ###\n",
      "### 전공 관련 흥미와 적성  \n",
      "아동의 신체발달, 심리와 행동, 부모교육 등에 대한 지식과 더불어 돌발 상황에 대한 신속한 판단 능력과 대처능력이 필요하며, 정확한 언어 구사 능력과 바른 행동을 갖추어야 합니다. 교육자로서 사명감과 아이들을 아끼고 사랑하는 마음은 물론 책임감과 성실, 끈기 등을 갖추어야 합니다.\n",
      "(출처: 전문대학포털 PROCOLLEGE - 진로정보 - 전문대학직업세계 ‘보육교사’)\n",
      "{'Header 1': '유아교육과', 'Header 2': '전공 개요', 'Header 3': '전공 관련 흥미와 적성'}\n",
      "\n",
      "\n",
      "### 결과 4 ###\n",
      "### 내용:  \n",
      "> 질문 : 이 학과(학부, 전공)가 무엇을 배우는지 쉽게 알려주세요.  \n",
      "기술교육과는 중･고등학교 기술교사(기술 가정교과의 기술 영역)가 되기 위한 사범계열 학과입니다. 따라서 전공과목은 정보 통신 기술, 제조 기술, 건설 기술, 수송 기술, 생명 기술, 디자인 및 발명 교육 등을 중심으로 한 전반적인 공학 기술 내용과 문제 해결 방법론을 공부합니다. 아울러 기술교사로서 필요한 기술을 잘 가르치기 위한 기술 교육론, 기술 교수･학습법 등의 교과 교육학 과목을 공부합니다.  \n",
      "> 질문 : 어떤 분야를 좋아하거나 잘하는 사람이 이 학과에 적합할까요?  \n",
      "먼저 교사로서의 적성과 품성이 있어야 합니다. 기술교사도 생활 지도, 진로 지도, 학급 담임, 교과 지도에 있어서 가르치는 일과 학생들을 존중하는 기본적인 자세가 중요합니다. 그리고 공학과 기술에 대한 호기심과 적성을 바탕으로 수학, 과학 등의 과목의 기초도 필요합니다. 물론, 교양으로 가르치는 기술은 단순히 공학 기술뿐만 아니라 그 기술의 인간적･사회적･환경적 영향을 탐구하므로 인문학적인 공부도 겸하게 됩니다. 기술교육과는 다양한 교양, 공학 기술 지식, 교육학적 지식 등의 다소 융합적인 연구에 관심이 있거나 소질을 보이는 학생에게 적합합니다.  \n",
      "> 질문 : 고등학교 때 어떤 교과목을 선택하면 도움이 될까요?\n",
      "{'Header 1': '기술교육과', 'Header 2': '인터뷰', 'Header 3': '내용:'}\n",
      "\n",
      "\n",
      "### 결과 5 ###\n",
      "> 질문 : 학과의 앞으로의 전망은 어떠하다고 보십니까?  \n",
      "이유덕 선생님이라고 계시거든요. 그 분이 뭐라고 말씀하셨느냐 하면은 세상 직업에서 가장 중요한 직업은 농사를 짓는 것이고 두 번째는 교사라고 했어요. 사람이 살려면 먹어야 되고 능력을 연마하려면 배워야 되거든요. 그런 측면에서 봤을 때 학교 교육은 계속 있을 것이기 때문에 교육학은 제가 봤을 때 앞으로도 계속 필요하리라고 생각됩니다. 그리고 추가해서 말씀 드린다면 지금 교육학 분야에서 굉장히 중요한 분야 중에 하나가 상담 분야거든요. 상담 분야는 최근에 뜨는 직업 10위 안에 들었다는 것으로 알고 있습니다. 사회 변화로 인해서 사람들의 마음이 피곤하고 소외감 같은 것을 많이 겪기 때문에 교육학에 한 분야인 교육상담 분야는 대단히 유망한 분야라고 할 수 있습니다.  \n",
      "> 질문 : 지금은 없지만 앞으로 새로 생기게 될 직업은 어떤 것들이 있을까요? 혹은 최근에 새롭게 생겨난 직업들이 있습니까?  \n",
      "앞으로 이제 유망한 분야 중에 한 분야에 교육 콘텐츠를 제작하는 분야가 앞으로 유망한 분야라는 생각이 듭니다. 최근에 유망해 지고 있고 앞으로 계속 유망할 분야는 교육 상담사라든지 학습상담, 그리고 교육학 중에서 가족상담도 배우거든요. 그런 분야들이 앞으로도 50년 이상은 굉장히 유망한 분야입니다.\n",
      "{'Header 1': '교육학과', 'Header 2': '인터뷰', 'Header 3': '내용:'}\n",
      "\n",
      "\n"
     ]
    }
   ],
   "source": [
    "# 검색을 위한 retriever 설정\n",
    "retriever = vectorstore.as_retriever(\n",
    "    search_type=\"mmr\",\n",
    "    search_kwargs={\n",
    "        \"k\": 5,\n",
    "    },     \n",
    ")\n",
    "\n",
    "# 검색 테스트: 예시 쿼리로 유사 문서 검색\n",
    "query = \"교사가 되려면 필요한 어떤 기술이나 지식이 필요할까요?\"  # 검색할 쿼리\n",
    "test = retriever.invoke(query)\n",
    "\n",
    "# 검색 결과 출력\n",
    "for i, doc in enumerate(test):\n",
    "    print(f\"### 결과 {i + 1} ###\")\n",
    "    print(doc.page_content)  # 문서 내용 출력\n",
    "    print(doc.metadata)      # 메타데이터 출력 (필요할 경우)\n",
    "    print(\"\\n\")"
   ]
  },
  {
   "cell_type": "markdown",
   "metadata": {},
   "source": [
    "## [2] 전공(학과)\n",
    "\n",
    "- 00학과 졸업하면 어떤 직업으로 주로 진출할 수 있나요?\n",
    "- 00학과로 진학하려면 고등학교 때 어떤 활동을 준비하는 게 도움이 되나요?\n",
    "- 저는 무언가 만드는 것이 재밌고, 깊게 탐구하는 활동에 흥미가 많은데 어떤 전공을 선택하는게 좋을까요?\n",
    "- 00전공의 졸업생들이 주로 어떤 분야로 진출하나요?\n",
    "- 컴퓨터공학과에 진학하게 되면 배우게 되는 주요 전공과목에 대해서 알려줘."
   ]
  },
  {
   "cell_type": "code",
   "execution_count": 24,
   "metadata": {},
   "outputs": [
    {
     "name": "stdout",
     "output_type": "stream",
     "text": [
      "### 결과 1 ###\n",
      "### 전공 관련 흥미와 적성  \n",
      "컴퓨터, 게임, 스마트 워치, 각종 IT기술이 접목된 장치 등의 기능을 익히고 조작하는 것을 좋아하는 사람에게 유리합니다. 새로운 분야에 대한 호기심이 많고 다양한 기능을 가진 소프트웨어나 게임 등을 개발하는 일이므로 창의력과 논리력이 필요합니다.\n",
      "{'Header 1': '응용소프트웨어공학과', 'Header 2': '전공 개요', 'Header 3': '전공 관련 흥미와 적성'}\n",
      "\n",
      "\n",
      "### 결과 2 ###\n",
      "### 내용:  \n",
      "> 질문 : 교수님께서 이 학과(전공)를 선택하시게 된 동기는 무엇이었습니까?  \n",
      "저는 서울대 컴퓨터공학과를 나왔는데 제 서울대 은사님이 그러시는 거에요. 우리나라가 소프트웨어를 수출할 수가 있을까, 우리가 미국에서 기술 받아서 수출하기 쉽지 않은 상황인데 옆에 일본을 보니까 게임이라고 하는 소프트웨어를 수출하더라, 우리가 게임이랑 소프트웨어를 만들면 수출이 가능할 수 있을 것 같다라는 말씀에서 저도 관심을 가지게 되었고, 실제로 지금 게임 수출을 엄청나게 많이 하고 있습니다.  \n",
      "> 질문 : 어떤 분야에 관심을 갖고 있는 사람들이 이 학과에 입학을 하면 좋은가요?  \n",
      "현재 우리 게임학과는 주력이 게임 개발입니다. 그래서 게임 개발에 관심이 있는 학생들이 들어오면 좋습니다. 게임이라고 하는 것이 융합 학문이다 보니까 스토리, 인문, 심리 이런 쪽에 관심이 있는 사람들도 필요하고 또 그림을 잘 그리는 예술가적인 사람, 컴퓨터 프로그래밍도 할 수 있는 공학적인 사람도 필요로 하는 융합 학문이라서 다양한 분야의 젊은이들이 들어올 수 있을 것이라고 생각합니다.  \n",
      "> 질문 : 이 학과에서 입학하면 가장 중요한 공부는 어떤 내용인가요?\n",
      "{'Header 1': '소프트웨어공학과', 'Header 2': '인터뷰', 'Header 3': '내용:'}\n",
      "\n",
      "\n",
      "### 결과 3 ###\n",
      "### 내용:  \n",
      "> 질문 : 교수님께서 이 학과(전공)를 선택하시게 된 동기는 무엇이었습니까?  \n",
      "우선은 제가 전공한 것 자체가 이쪽 분야거든요. 그런데 이 전공이라는 것이 사실은 전자 공학하고 컴퓨터 공학이 결합된 그런 형태의 학과에요. 저는 컴퓨터 공학을 전공했거든요. 컴퓨터 공학 중에서도 게임이나 이런 프로그램도 있지만 하드웨어를 직접 움직이는 로어 레벨 프로그래밍 분야가 있는데 저는 그쪽이거든요. 그래서 하드웨어와 소프트웨어를 동시에 다루는 그러한 학과이기 때문에 선택을 하게 됐습니다.  \n",
      "> 질문 : 어떤 분야에 관심을 갖고 있는 사람들이 이 학과에 입학을 하면 좋은가요?  \n",
      "이 학과 성격 자체가 하드웨어와 소프트웨어를 동시에 설계하는 인재를 배양하는 과거든요. 그러니까 하드웨어와 소프트웨어의 양쪽에 다 관심이 있는 그런 학생들이 좋겠죠.  \n",
      "> 질문 : 이 학과에서 입학하면 가장 중요한 공부는 어떤 내용인가요?\n",
      "{'Header 1': '인터넷정보과', 'Header 2': '인터뷰', 'Header 3': '내용:'}\n",
      "\n",
      "\n",
      "### 결과 4 ###\n",
      "> 질문 : 어떤 분야에 관심을 갖고 있는 사람들이 이 학과에 입학을 하면 좋은가요?  \n",
      "사실 중요한 것은 내가 이쪽 분야를 좋아할 수 있는지에 대한 마음가짐인 것 같아요. 그리고 내가 관심이 있어서 이 방면으로 내가 인터넷도 찾아보고, 전시회도 가 보고, 회사에도 기웃거려 보기도 하고. 그러니까 그런 관심이 많은 친구들, 그리고 좀 성실성이 뒷받침이 되어야 되는 것 같아요. 왜냐하면 우리 과에 들어오게 되면 처음에는 이것을 왜 배워야 되는지조차도 몰라요. ‘예술을 하는데 왜 프로그래밍을 배워야 되지? 프로그래밍이 너무 어려운데 이거 안 하면 안 돼요?’ 그런 질문들을 되게 많이 하거든요. 그렇기 때문에 좀 믿고 성실하게 처음에는 좀 따라와 줄 수 있는 그런 친구들이면 좋을 것 같아요. 그러니까 특별한 준비라기 보다는 그 정도의 마음가짐만 가져 주면 좋지 않을까 생각하고 있습니다.  \n",
      "> 질문 : 이 학과에서 공부를 잘하려면 중고등학교 때 특히 어떤 교과목을 공부하면 좋을까요?\n",
      "{'Header 1': '그래픽디자인과', 'Header 2': '인터뷰', 'Header 3': '내용:'}\n",
      "\n",
      "\n"
     ]
    }
   ],
   "source": [
    "# 기존 벡터 DB 불러오기\n",
    "vectorstore = Chroma(\n",
    "    embedding_function=hf_embeddings,  # 사용한 임베딩 모델과 동일한 함수\n",
    "    persist_directory=persist_dir,     # 벡터 DB가 저장된 경로\n",
    "    collection_name=\"careernet_major_db\"     # 불러올 컬렉션 이름\n",
    ")\n",
    "\n",
    "# 검색을 위한 retriever 설정\n",
    "retriever = vectorstore.as_retriever(\n",
    "    search_type=\"mmr\",  # 유사도 검색 방식 \"similarity\" \"mmr\"\n",
    "    search_kwargs={\"k\": 4}     # 상위 k개 유사 문서 반환\n",
    ")\n",
    "\n",
    "# 검색 테스트: 예시 쿼리로 유사 문서 검색\n",
    "query = \"저는 개발을 통해 프로그램을 만드는 것에 관심이 많고, 깊게 탐구하는 활동에 흥미가 많은데 어떤 전공을 선택하는게 좋을까요?\"  # 검색할 쿼리\n",
    "test = retriever.invoke(query)\n",
    "\n",
    "# 검색 결과 출력\n",
    "for i, doc in enumerate(test):\n",
    "    print(f\"### 결과 {i + 1} ###\")\n",
    "    print(doc.page_content)  # 문서 내용 출력\n",
    "    print(doc.metadata)      # 메타데이터 출력 (필요할 경우)\n",
    "    print(\"\\n\")"
   ]
  },
  {
   "cell_type": "markdown",
   "metadata": {},
   "source": [
    "## [3] 대학"
   ]
  },
  {
   "cell_type": "code",
   "execution_count": 17,
   "metadata": {},
   "outputs": [
    {
     "name": "stdout",
     "output_type": "stream",
     "text": [
      "### 결과 1 ###\n",
      "# 울산과학기술원(제1캠퍼스)  \n",
      "- URL: http://www.unist.ac.kr/\n",
      "- 학교종류: 대학(4년제)\n",
      "- 학교유형: 대학교\n",
      "- 설립: 국립\n",
      "- 지역: 울산광역시  \n",
      "---\n",
      "{'Header 1': '울산과학기술원(제1캠퍼스)'}\n",
      "\n",
      "\n",
      "### 결과 2 ###\n",
      "# 유한대학교(제1캠퍼스)  \n",
      "- URL: http://www.yuhan.ac.kr/\n",
      "- 학교종류: 전문대학\n",
      "- 학교유형: 전문대학\n",
      "- 설립: 사립\n",
      "- 지역: 경기도  \n",
      "---\n",
      "{'Header 1': '유한대학교(제1캠퍼스)'}\n",
      "\n",
      "\n",
      "### 결과 3 ###\n",
      "# 경남정보대학교(제1캠퍼스)  \n",
      "- URL: http://www.kit.ac.kr/\n",
      "- 학교종류: 전문대학\n",
      "- 학교유형: 전문대학\n",
      "- 설립: 사립\n",
      "- 지역: 부산광역시  \n",
      "---\n",
      "{'Header 1': '경남정보대학교(제1캠퍼스)'}\n",
      "\n",
      "\n"
     ]
    }
   ],
   "source": [
    "# 기존 벡터 DB 불러오기\n",
    "vectorstore = Chroma(\n",
    "    embedding_function=hf_embeddings,  # 사용한 임베딩 모델과 동일한 함수\n",
    "    persist_directory=persist_dir,     # 벡터 DB가 저장된 경로\n",
    "    collection_name=\"careernet_univ_db\"     # 불러올 컬렉션 이름\n",
    ")\n",
    "\n",
    "# 검색을 위한 retriever 설정\n",
    "retriever = vectorstore.as_retriever(\n",
    "    search_type=\"similarity\",  # 유사도 검색 방식 \"similarity\" \"mmr\"\n",
    "    search_kwargs={\"k\": 3}     # 상위 k개 유사 문서 반환\n",
    ")\n",
    "\n",
    "# 검색 테스트: 예시 쿼리로 유사 문서 검색\n",
    "query = \"UNIST\"  # 검색할 쿼리\n",
    "test = retriever.invoke(query)\n",
    "\n",
    "# 검색 결과 출력\n",
    "for i, doc in enumerate(test):\n",
    "    print(f\"### 결과 {i + 1} ###\")\n",
    "    print(doc.page_content)  # 문서 내용 출력\n",
    "    print(doc.metadata)      # 메타데이터 출력 (필요할 경우)\n",
    "    print(\"\\n\")"
   ]
  }
 ],
 "metadata": {
  "kernelspec": {
   "display_name": ".venv",
   "language": "python",
   "name": "python3"
  },
  "language_info": {
   "codemirror_mode": {
    "name": "ipython",
    "version": 3
   },
   "file_extension": ".py",
   "mimetype": "text/x-python",
   "name": "python",
   "nbconvert_exporter": "python",
   "pygments_lexer": "ipython3",
   "version": "3.11.8"
  }
 },
 "nbformat": 4,
 "nbformat_minor": 2
}
