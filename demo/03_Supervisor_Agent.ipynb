{
 "cells": [
  {
   "cell_type": "markdown",
   "metadata": {},
   "source": [
    "# Setting"
   ]
  },
  {
   "cell_type": "code",
   "execution_count": 1,
   "metadata": {},
   "outputs": [],
   "source": [
    "%%capture --no-stderr\n",
    "%pip install -U --quiet langchain langsmith langchain-community langchain-openai langchain_experimental langchainhub langgraph langchain_huggingface langchain-text-splitters \"unstructured[md]\" nltk tiktoken chromadb"
   ]
  },
  {
   "cell_type": "code",
   "execution_count": 2,
   "metadata": {},
   "outputs": [],
   "source": [
    "# 환경변수 불러오기\n",
    "import getpass\n",
    "import os\n",
    "\n",
    "def _set_env(var: str):\n",
    "    ''' 환경변수에 없으면 입력 받을 수 있게하는 함수 '''\n",
    "    if not os.environ.get(var):\n",
    "        os.environ[var] = getpass.getpass(f\"Please provide your {var}\")\n",
    "\n",
    "_set_env(\"OPENAI_API_KEY\")\n",
    "_set_env(\"TAVILY_API_KEY\")"
   ]
  },
  {
   "cell_type": "code",
   "execution_count": 3,
   "metadata": {},
   "outputs": [],
   "source": [
    "# LLM 지정\n",
    "from langchain_openai import ChatOpenAI\n",
    "\n",
    "llm = ChatOpenAI(model=\"gpt-3.5-turbo-0125\", temperature=0) # gpt-4-turbo, gpt-4o-realtime-preview, gpt-4o-mini, gpt-4o"
   ]
  },
  {
   "cell_type": "markdown",
   "metadata": {},
   "source": [
    "# Supervisor Node\n",
    "\n",
    "- supervisor = LLM 노드 \n",
    "- Agent Router를 통해 적절한 에이전트를 라우팅하고, 작업 완료 여부 결정함."
   ]
  },
  {
   "cell_type": "code",
   "execution_count": 4,
   "metadata": {},
   "outputs": [],
   "source": [
    "from langchain_core.prompts import ChatPromptTemplate, MessagesPlaceholder\n",
    "from pydantic import BaseModel\n",
    "from typing import Literal\n",
    "\n",
    "\n",
    "# =========================[ 작업자 그룹 정의, 결정된 작업자 반환 양식 정의 ]==================================\n",
    "members = [\"Web_Researcher\", \"Job_DB_Researcher\", \"Major_DB_Researcher\", \"University_DB_Researcher\"]\n",
    "options = [\"FINISH\"] + members\n",
    "\n",
    "class RouteResponse(BaseModel):\n",
    "    next: Literal[*options]\n",
    "\n",
    "\n",
    "# =========================[ 수퍼바이저 시스템 프롬프트 ]==================================\n",
    "# 한국어 프롬프트를 사용하려면 members 이름도 한국어로 해야함. 그리고 추가 설명도 해줘야 잘됨.\n",
    "# 영어로 할 때는 그냥 기본 프롬프트 쓰는게 더 잘됨. 추가 설명해주니까 오히려 틀림.\n",
    "system_prompt = (\n",
    "    \"You are a supervisor tasked with managing a conversation between the\"\n",
    "    \" following workers:  {members}. Given the following user request,\"\n",
    "    \" respond with the worker to act next. Each worker will perform a\"\n",
    "    \" task and respond with their results and status. When finished,\"\n",
    "    \" respond with FINISH.\"\n",
    ")\n",
    "prompt = ChatPromptTemplate.from_messages(\n",
    "    [\n",
    "        (\"system\", system_prompt),\n",
    "        MessagesPlaceholder(variable_name=\"messages\"),\n",
    "        (\n",
    "            \"system\",\n",
    "            \"Given the conversation above, who should act next?\"\n",
    "            \" Or should we FINISH? Select one of: {options}\",\n",
    "        ),\n",
    "    ]\n",
    ").partial(options=str(options), members=\", \".join(members))\n",
    "\n",
    "\n",
    "# =========================[ 수퍼바이저 정의 ]==================================\n",
    "def supervisor_agent(state):\n",
    "    \"\"\"Supervisor가 대화의 흐름을 제어하고 다음 작업을 수행할 에이전트를 선택\"\"\"\n",
    "    # 수퍼바이저(체인) : 시스템 프롬프트 + 반환 양식 \n",
    "    # LLM을 통해 적합한 작압자 선정한 후 양식에 맞게 반환.\n",
    "    supervisor_chain = prompt | llm.with_structured_output(RouteResponse)\n",
    "    return supervisor_chain.invoke(state)"
   ]
  },
  {
   "cell_type": "markdown",
   "metadata": {},
   "source": [
    "### [TEST] Supervisor\n",
    "\n",
    "---"
   ]
  },
  {
   "cell_type": "code",
   "execution_count": 183,
   "metadata": {},
   "outputs": [],
   "source": [
    "def test_supervisor(query):    \n",
    "    # 테스트를 위한 상태(state)를 설정 (사용자 메시지 시뮬레이션)\n",
    "    state = {\n",
    "        \"messages\": [\n",
    "            {\"role\": \"user\", \"content\": query},  # 사용자 질문\n",
    "        ]\n",
    "    }\n",
    "\n",
    "    # 수퍼바이저 에이전트 호출\n",
    "    response = supervisor_agent(state)\n",
    "    \n",
    "    # 결과 출력\n",
    "    print(f\"Supervisor 선택: {response.next}\")"
   ]
  },
  {
   "cell_type": "code",
   "execution_count": 184,
   "metadata": {},
   "outputs": [
    {
     "name": "stdout",
     "output_type": "stream",
     "text": [
      "Supervisor 선택: Researcher\n"
     ]
    }
   ],
   "source": [
    "# 진로상담 질의 -> Counselor\n",
    "# 이전 상담사 질문 가정 : 어떤 활동을 할 때 흥미를 느끼나요?\n",
    "query = \"저는 무언가를 만드는 것을 좋아합니다. 특히 컴퓨터로 프로그램을 만드는것이 재밌는 것 같아요\"\n",
    "test_supervisor(query)"
   ]
  },
  {
   "cell_type": "code",
   "execution_count": 185,
   "metadata": {},
   "outputs": [
    {
     "name": "stdout",
     "output_type": "stream",
     "text": [
      "Supervisor 선택: Researcher\n"
     ]
    }
   ],
   "source": [
    "# 진로정보검색 질의 -> Researcher\n",
    "test_supervisor(\"AI 엔지니어가 되려면 무엇을 준비해야 할까요?\")"
   ]
  },
  {
   "cell_type": "markdown",
   "metadata": {},
   "source": [
    "---"
   ]
  },
  {
   "cell_type": "markdown",
   "metadata": {},
   "source": [
    "# Agent State\n",
    "\n",
    "- `state` 객체는 그래프의 각 노드에 전달되는 상태.\n",
    "- state는 `messages`의 리스트가 됨.\n",
    "- 그래프의 각 노드가 여기에 추가됨. "
   ]
  },
  {
   "cell_type": "code",
   "execution_count": 5,
   "metadata": {},
   "outputs": [],
   "source": [
    "from typing import Annotated, Sequence\n",
    "from typing_extensions import TypedDict\n",
    "from langchain_core.messages import BaseMessage\n",
    "from langgraph.graph.message import add_messages\n",
    "import operator\n",
    "\n",
    "# Annotated는 Python 타입 힌팅에 사용되는 유틸리티, 첫 번째 인자 : 실제 타입, 두 번째 인자 : 타입이 어떻게 사용되거나 처리될지 정보\n",
    "# Sequence[BaseMessage] -> BaseMessage 객체를 담고 있는 시퀀스 타입(리스트, 튜플)\n",
    "# Annotated[]의 두 번째 인자 기본값은 replace\n",
    "# operator.add : 파이썬 기본 덧셈 연산, 여기서는 새로운 메시지가 추가될 때 기존 메시지 리스트에 더해져서 관리됨.\n",
    "# add_messages : LangGraph 상태 관리에 특화된 방식으로 메시지 추가(대화턴에 HumanMessage로 감싸진 대화가 추가됨)\n",
    "class AgentState(TypedDict):\n",
    "    messages: Annotated[Sequence[BaseMessage], add_messages]\n",
    "    next: str # 다음 라우팅할 곳"
   ]
  },
  {
   "cell_type": "markdown",
   "metadata": {},
   "source": [
    "### [TEST] Langgraph add_messsages VS Python operator.add\n",
    "\n",
    "---"
   ]
  },
  {
   "cell_type": "code",
   "execution_count": 187,
   "metadata": {},
   "outputs": [
    {
     "name": "stdout",
     "output_type": "stream",
     "text": [
      "operator.add 방식 결과: ['Message 1', 'Message 2', 'New Message using operator.add']\n",
      "add_messages 방식 결과: [HumanMessage(content='Message 1', additional_kwargs={}, response_metadata={}, id='4a2f5404-8442-4cbc-a1b4-4ff48a135543'), HumanMessage(content='Message 2', additional_kwargs={}, response_metadata={}, id='e6c954bf-f835-4662-ad60-9373a62a25e7'), HumanMessage(content='New Message using add_messages', additional_kwargs={}, response_metadata={}, id='fb0a9057-290e-4822-b2af-d125dd334212')]\n"
     ]
    }
   ],
   "source": [
    "from operator import add\n",
    "from typing import List\n",
    "from langgraph.graph.message import add_messages\n",
    "\n",
    "# 기존 메시지 리스트\n",
    "messages = [\"Message 1\", \"Message 2\"]\n",
    "\n",
    "# operator.add로 메시지 추가\n",
    "added_messages_operator = add(messages, [\"New Message using operator.add\"])\n",
    "\n",
    "\n",
    "# add_messages 방식으로 메시지 추가\n",
    "added_messages_custom = add_messages(messages, [\"New Message using add_messages\"])\n",
    "\n",
    "# 두 결과를 출력하여 비교\n",
    "print(\"operator.add 방식 결과:\", added_messages_operator)\n",
    "print(\"add_messages 방식 결과:\", added_messages_custom)"
   ]
  },
  {
   "cell_type": "markdown",
   "metadata": {},
   "source": [
    "---"
   ]
  },
  {
   "cell_type": "markdown",
   "metadata": {},
   "source": [
    "# Tools"
   ]
  },
  {
   "cell_type": "markdown",
   "metadata": {},
   "source": [
    "## Create Retriever"
   ]
  },
  {
   "cell_type": "code",
   "execution_count": 6,
   "metadata": {},
   "outputs": [
    {
     "name": "stderr",
     "output_type": "stream",
     "text": [
      "/Users/ormor/root/DoWADO/Dowado-v2-Server/.venv/lib/python3.11/site-packages/sentence_transformers/cross_encoder/CrossEncoder.py:13: TqdmWarning: IProgress not found. Please update jupyter and ipywidgets. See https://ipywidgets.readthedocs.io/en/stable/user_install.html\n",
      "  from tqdm.autonotebook import tqdm, trange\n",
      "/var/folders/n9/ts1r4j4j5r7c_b_rychx69lw0000gn/T/ipykernel_63429/2079095718.py:41: LangChainDeprecationWarning: The class `Chroma` was deprecated in LangChain 0.2.9 and will be removed in 1.0. An updated version of the class exists in the :class:`~langchain-chroma package and should be used instead. To use it run `pip install -U :class:`~langchain-chroma` and import as `from :class:`~langchain_chroma import Chroma``.\n",
      "  vectorstore = Chroma(\n"
     ]
    },
    {
     "name": "stdout",
     "output_type": "stream",
     "text": [
      "[VectorStoreRetriever(tags=['Chroma', 'HuggingFaceEmbeddings'], vectorstore=<langchain_community.vectorstores.chroma.Chroma object at 0x1276eead0>, search_type='mmr', search_kwargs={'k': 5}), VectorStoreRetriever(tags=['Chroma', 'HuggingFaceEmbeddings'], vectorstore=<langchain_community.vectorstores.chroma.Chroma object at 0x16e120590>, search_type='mmr', search_kwargs={'k': 4}), VectorStoreRetriever(tags=['Chroma', 'HuggingFaceEmbeddings'], vectorstore=<langchain_community.vectorstores.chroma.Chroma object at 0x16e137e90>, search_kwargs={'k': 3})]\n"
     ]
    }
   ],
   "source": [
    "from langchain_huggingface.embeddings import HuggingFaceEmbeddings\n",
    "from langchain.vectorstores import Chroma\n",
    "from tqdm import tqdm\n",
    "\n",
    "\n",
    "# 임베딩 모델 설정\n",
    "model_name = \"BAAI/bge-m3\"\n",
    "hf_embeddings = HuggingFaceEmbeddings(\n",
    "    model_name=model_name,\n",
    "    model_kwargs = {'device': 'cpu'}, # default\n",
    "    encode_kwargs = {'normalize_embeddings': False}, # default\n",
    ")\n",
    "\n",
    "persist_dir = \"./chroma_db\" # 벡터 DB 저장경로\n",
    "\n",
    "# docs_list와 컬렉션 이름 매핑\n",
    "collections = {\n",
    "    \"careernet_job_db\": {\n",
    "        \"search_type\":\"mmr\",\n",
    "        \"search_kwargs\":{\n",
    "            \"k\": 5,\n",
    "        }, \n",
    "    },\n",
    "    \"careernet_major_db\": {\n",
    "        \"search_type\":\"mmr\",\n",
    "        \"search_kwargs\":{\n",
    "            \"k\": 4,\n",
    "        }, \n",
    "    },\n",
    "    \"careernet_univ_db\": {\n",
    "        \"search_type\":\"similarity\",\n",
    "        \"search_kwargs\":{\n",
    "            \"k\": 3,\n",
    "        }, \n",
    "    }\n",
    "}\n",
    "\n",
    "retrievers = []\n",
    "for item in collections:\n",
    "    # 직업백과 벡터 데이터베이스 불러오기\n",
    "    vectorstore = Chroma(\n",
    "        embedding_function=hf_embeddings,  # 사용한 임베딩 모델과 동일한 함수\n",
    "        persist_directory=persist_dir,     # 벡터 데이터베이스가 저장된 경로\n",
    "        collection_name=item # 불러올 컬렉션 이름\n",
    "    ) \n",
    "    retriever = vectorstore.as_retriever(\n",
    "        search_type=collections[item][\"search_type\"],\n",
    "        search_kwargs=collections[item][\"search_kwargs\"]     \n",
    "    )\n",
    "    retrievers.append(retriever)\n",
    "    \n",
    "    \n",
    "print(retrievers)"
   ]
  },
  {
   "cell_type": "markdown",
   "metadata": {},
   "source": [
    "## Create Tools"
   ]
  },
  {
   "cell_type": "code",
   "execution_count": 7,
   "metadata": {},
   "outputs": [],
   "source": [
    "from langchain_community.tools.tavily_search import TavilySearchResults\n",
    "from langchain.tools.retriever import create_retriever_tool\n",
    "\n",
    "\n",
    "# 웹 검색 도구\n",
    "tavily_tool = TavilySearchResults(max_results=5)\n",
    "\n",
    "# 벡터 DB 검색 도구\n",
    "# retrievers = [직업백과, 전공정보, 대학정보]\n",
    "job_retriever_tool = create_retriever_tool(\n",
    "    retrievers[0],\n",
    "    \"retrieve_job_informations\",\n",
    "    \"Search and return information about a specific job, including related job titles, academic majors, certifications, key responsibilities, aptitudes, career exploration activities, educational pathways, employment methods, job outlook, salary, job satisfaction, required skills, knowledge, and working environments.\",\n",
    ")\n",
    "\n",
    "major_retriever_tool = create_retriever_tool(\n",
    "    retrievers[1],\n",
    "    \"retrieve_major_informations\",\n",
    "    \"Search and return information about a specific academic major, including employment rate, average starting salary, detailed description of the major, key characteristics, relevant aptitudes and interests, high school subjects, important college courses, career paths after graduation, career exploration activities, related certifications, associated job fields, detailed sub-majors, universities name offering the major, and interviews with professors.\",\n",
    ")\n",
    "\n",
    "univ_retriever_tool = create_retriever_tool(\n",
    "    retrievers[2],\n",
    "    \"retrieve_university_informations\",\n",
    "    \"Search and return information about a specific university, including its name, university webpage URL, type of school (e.g., college, university), category (e.g., technical, polytechnic), founding type (e.g., public, private), location, and other relevant data.\",\n",
    ")\n",
    "\n",
    "\n",
    "# tools = [job_retriever_tool, major_retriever_tool, univ_retriever_tool]"
   ]
  },
  {
   "cell_type": "markdown",
   "metadata": {},
   "source": [
    "# Helper Utilities"
   ]
  },
  {
   "cell_type": "code",
   "execution_count": 8,
   "metadata": {},
   "outputs": [],
   "source": [
    "from langchain_core.messages import HumanMessage\n",
    "\n",
    "\n",
    "# 에이전트 호출하고, 그 결과 state를 HummanMessage 형식으로 변환\n",
    "# 에이전트가 생성한 응답을 사용자에게 전달하기 위함\n",
    "def agent_node(state, agent, name):\n",
    "    result = agent.invoke(state)\n",
    "    return {\n",
    "        \"messages\": [HumanMessage(content=result[\"messages\"][-1].content, name=name)]\n",
    "    }"
   ]
  },
  {
   "cell_type": "markdown",
   "metadata": {},
   "source": [
    "# Construct Graph"
   ]
  },
  {
   "cell_type": "markdown",
   "metadata": {},
   "source": [
    "## Define Worker(작업자) Node"
   ]
  },
  {
   "cell_type": "code",
   "execution_count": 9,
   "metadata": {},
   "outputs": [],
   "source": [
    "import functools\n",
    "from langgraph.prebuilt import create_react_agent # 단순히 자동으로 에이전트 만들어줌(커스터마이징 X)\n",
    "\n",
    "\n",
    "# 웹 검색 에이전트\n",
    "web_research_agent = create_react_agent(llm, tools=[tavily_tool])\n",
    "web_research_node = functools.partial(agent_node, agent=web_research_agent, name=\"Web_Researcher\")\n",
    "\n",
    "# 직업 벡터 DB 검색 에이전트\n",
    "job_db_research_agent = create_react_agent(llm, tools=[job_retriever_tool])\n",
    "job_db_research_node = functools.partial(agent_node, agent=job_db_research_agent, name=\"Job_DB_Researcher\")\n",
    "\n",
    "# 전공 벡터 DB 검색 에이전트\n",
    "major_db_research_agent = create_react_agent(llm, tools=[major_retriever_tool])\n",
    "major_db_research_node = functools.partial(agent_node, agent=major_db_research_agent, name=\"Major_DB_Researcher\")\n",
    "\n",
    "# 대학 벡터 DB 검색 에이전트\n",
    "univ_db_research_agent = create_react_agent(llm, tools=[univ_retriever_tool])\n",
    "univ_db_research_node = functools.partial(agent_node, agent=univ_db_research_agent, name=\"University_DB_Researcher\")"
   ]
  },
  {
   "cell_type": "markdown",
   "metadata": {},
   "source": [
    "## Define Workflow"
   ]
  },
  {
   "cell_type": "code",
   "execution_count": 10,
   "metadata": {},
   "outputs": [],
   "source": [
    "from langgraph.graph import END, StateGraph, START\n",
    "\n",
    "workflow = StateGraph(AgentState)\n",
    "workflow.add_node(\"Job_DB_Researcher\", job_db_research_node)\n",
    "workflow.add_node(\"Major_DB_Researcher\", major_db_research_node)\n",
    "workflow.add_node(\"University_DB_Researcher\", univ_db_research_node)\n",
    "workflow.add_node(\"Web_Researcher\", web_research_node)\n",
    "workflow.add_node(\"supervisor\", supervisor_agent)\n",
    "\n",
    "# Worker가 작업을 완료하면 항상 Supervisor에게 Report Back(보고) 하는 구조로 설계\n",
    "for member in members:\n",
    "    workflow.add_edge(member, \"supervisor\")\n",
    "    \n",
    "# Supervisor은 노드로 라우팅되거나 완료되는 그래프 State의 'next' 필드를 채움.\n",
    "conditional_map = {k: k for k in members}\n",
    "conditional_map[\"FINISH\"] = END\n",
    "workflow.add_conditional_edges(\"supervisor\", lambda x: x[\"next\"], conditional_map)\n",
    "\n",
    "# entrypoint를 추가\n",
    "workflow.add_edge(START, \"supervisor\")\n",
    "\n",
    "graph = workflow.compile()"
   ]
  },
  {
   "cell_type": "markdown",
   "metadata": {},
   "source": [
    "# Display Graph"
   ]
  },
  {
   "cell_type": "code",
   "execution_count": 11,
   "metadata": {},
   "outputs": [
    {
     "data": {
      "image/jpeg": "[encoded data removed]",
      "text/plain": [
       "<IPython.core.display.Image object>"
      ]
     },
     "metadata": {},
     "output_type": "display_data"
    }
   ],
   "source": [
    "from IPython.display import Image, display\n",
    "\n",
    "try:\n",
    "    display(Image(graph.get_graph(xray=True).draw_mermaid_png()))\n",
    "except Exception:\n",
    "    # 여기에는 몇 가지 추가 종속성이 필요하며 선택 사항\n",
    "    pass"
   ]
  },
  {
   "cell_type": "markdown",
   "metadata": {},
   "source": [
    "# Invoke"
   ]
  },
  {
   "cell_type": "code",
   "execution_count": 34,
   "metadata": {},
   "outputs": [
    {
     "name": "stdout",
     "output_type": "stream",
     "text": [
      "{'supervisor': {'next': 'Major_DB_Researcher'}}\n",
      "----\n",
      "{'Major_DB_Researcher': {'messages': [HumanMessage(content='데이터 사이언스와 관련된 전공들을 한국 대학들을 기준으로 간단히 리스트업해 드리겠습니다:\\n\\n1. 서울대학교\\n   - 컴퓨터공학부 데이터사이언스전공\\n   - 통계학과 데이터사이언스전공\\n\\n2. 고려대학교\\n   - 컴퓨터학과 데이터사이언스전공\\n   - 통계학과 데이터사이언스전공\\n\\n3. 연세대학교\\n   - 컴퓨터과학전공 데이터사이언스트랙\\n   - 통계학과 데이터사이언스트랙\\n\\n4. 한양대학교\\n   - 컴퓨터공학부 데이터사이언스전공\\n   - 통계학과 데이터사이언스전공\\n\\n5. 성균관대학교\\n   - 컴퓨터공학과 데이터사이언스전공\\n   - 통계학과 데이터사이언스전공\\n\\n6. 경희대학교\\n   - 컴퓨터공학과 데이터사이언스전공\\n   - 통계학과 데이터사이언스전공\\n\\n7. 서강대학교\\n   - 컴퓨터공학과 데이터사이언스전공\\n   - 통계학과 데이터사이언스전공\\n\\n8. 숙명여자대학교\\n   - 컴퓨터과학전공 데이터사이언스트랙\\n   - 통계학과 데이터사이언스트랙\\n\\n위 대학들에서 데이터 사이언스와 관련된 전공을 찾아보실 수 있습니다.', additional_kwargs={}, response_metadata={}, name='Major_DB_Researcher', id='e17ebfb7-edbf-4ad7-88db-20fd30f7861d')]}}\n",
      "----\n",
      "{'supervisor': {'next': 'FINISH'}}\n",
      "----\n"
     ]
    }
   ],
   "source": [
    "for s in graph.stream({\n",
    "    \"messages\": [\n",
    "        HumanMessage(content=\"데이터 사이언티스트가 되고 싶은데 관련된 전공은 어떤게 있는지 각 대학별(한국)로 구분지어서 간단히 리스트업 해줘\")\n",
    "    ]\n",
    "}):\n",
    "    if \"__end__\" not in s:\n",
    "        print(s)\n",
    "        print(\"----\")"
   ]
  },
  {
   "cell_type": "markdown",
   "metadata": {},
   "source": [
    "데이터 사이언스와 관련된 전공들을 한국 대학들을 기준으로 간단히 리스트업해 드리겠습니다:\n",
    "\n",
    "1. 서울대학교\n",
    "    - 컴퓨터공학부 데이터사이언스전공\n",
    "    - 통계학과 데이터사이언스전공\n",
    "    \n",
    "2. 고려대학교\n",
    "    - 컴퓨터학과 데이터사이언스전공\n",
    "    - 통계학과 데이터사이언스전공\n",
    "\n",
    "3. 연세대학교\n",
    "    - 컴퓨터과학전공 데이터사이언스트랙\n",
    "    - 통계학과 데이터사이언스트랙\n",
    "\n",
    "4. 한양대학교\n",
    "    - 컴퓨터공학부 데이터사이언스전공\n",
    "    - 통계학과 데이터사이언스전공\n",
    "\n",
    "5. 성균관대학교\n",
    "    - 컴퓨터공학과 데이터사이언스전공\n",
    "    - 통계학과 데이터사이언스전공\n",
    "\n",
    "6. 경희대학교\n",
    "    - 컴퓨터공학과 데이터사이언스전공\n",
    "    - 통계학과 데이터사이언스전공\n",
    "\n",
    "7. 서강대학교\n",
    "   - 컴퓨터공학과 데이터사이언스전공\n",
    "   - 통계학과 데이터사이언스전공\n",
    "\n",
    "8. 숙명여자대학교\n",
    "    - 컴퓨터과학전공 데이터사이언스트랙\n",
    "    - 통계학과 데이터사이언스트랙\n",
    "\n",
    "위 대학들에서 데이터 사이언스와 관련된 전공을 찾아보실 수 있습니다."
   ]
  },
  {
   "cell_type": "code",
   "execution_count": 12,
   "metadata": {},
   "outputs": [
    {
     "name": "stdout",
     "output_type": "stream",
     "text": [
      "{'supervisor': {'next': 'Major_DB_Researcher'}}\n",
      "----\n",
      "{'Major_DB_Researcher': {'messages': [HumanMessage(content='기계공학 전공에 대한 정보를 찾아보았습니다. \\n\\n### 졸업 후 3D 프린팅 전문가로 일하기 위한 정보:\\n- **관련 전공 과목**: 기계설계, 열유체기계, 공조냉동기계, 생산용기계, 건축기계, 선박용기계, 발전관련 에너지 시스템 설계 및 제작기법 등\\n- **관련 자격증**: 3D 프린팅 기술 관련 자격증을 취득하는 것이 도움이 될 수 있습니다.\\n- **취업률이 높은 대학**: 국립공주대학교, 한국기술교육대학교, 국립군산대학교, 원광대학교, 전북대학교, 전주대학교, 전남대학교, 국립금오공과대학교, 국립안동대학교, 대구대학교, 영남대학교, 영산대학교 등이 있습니다.\\n\\n위 정보를 참고하여 기계공학 전공을 통해 3D 프린팅 전문가로 나아가는 데 도움이 될 것입니다. 추가로 교수님의 인터뷰도 참고하시면 좋을 것 같습니다.', additional_kwargs={}, response_metadata={}, name='Major_DB_Researcher', id='769eda2e-48f1-4cda-b231-42c10edf885b')]}}\n",
      "----\n",
      "{'supervisor': {'next': 'University_DB_Researcher'}}\n",
      "----\n",
      "{'University_DB_Researcher': {'messages': [HumanMessage(content='### 취업률이 높은 대학 정보:\\n\\n1. **국립공주대학교**\\n   - **유형:** 국립대학교\\n   - **위치:** 충청남도 공주시\\n   - **관련 웹페이지:** [국립공주대학교 웹페이지](https://www.kongju.ac.kr/)\\n\\n2. **한국기술교육대학교**\\n   - **유형:** 국립대학교\\n   - **위치:** 충청남도\\n   - **관련 웹페이지:** [한국기술교육대학교 웹페이지](http://www.koreatech.ac.kr/)\\n\\n3. **국립군산대학교**\\n   - **유형:** 국립대학교\\n   - **위치:** 전라북도 군산시\\n   - **관련 웹페이지:** [국립군산대학교 웹페이지](http://www.kunsan.ac.kr/index.kunsan)\\n\\n4. **원광대학교**\\n   - **유형:** 사립대학교\\n   - **위치:** 전북 익산시\\n   - **관련 웹페이지:** [원광대학교 웹페이지](http://www.wonkwang.ac.kr/)\\n\\n5. **전북대학교**\\n   - **유형:** 국립대학교\\n   - **위치:** 전북 전주시 덕진구\\n   - **관련 웹페이지:** [전북대학교 웹페이지](http://www.jbnu.ac.kr/)\\n\\n6. **전주대학교**\\n   - **유형:** 사립대학교\\n   - **위치:** 전북 전주시 완산구\\n   - **관련 웹페이지:** [전주대학교 웹페이지](http://www.jj.ac.kr/)\\n\\n7. **전남대학교**\\n   - **유형:** 국립대학교\\n   - **위치:** 광주 북구\\n   - **관련 웹페이지:** [전남대학교 웹페이지](http://www.jnu.ac.kr/)\\n\\n8. **국립금오공과대학교**\\n   - **유형:** 국립대학교\\n   - **위치:** 경남 진주시\\n   - **관련 웹페이지:** [국립금오공과대학교 웹페이지](http://www.kopo.ac.kr/jeonnam/index.do)\\n\\n9. **국립안동대학교**\\n   - **유형:** 국립대학교\\n   - **위치:** 경북 안동시\\n   - **관련 웹페이지:** [국립안동대학교 웹페이지](http://www.andong.ac.kr/)\\n\\n10. **대구대학교**\\n    - **유형:** 사립대학교\\n    - **위치:** 대구광역시 달서구\\n    - **관련 웹페이지:** [대구대학교 웹페이지](http://www.daegu.ac.kr/)\\n\\n11. **영남대학교**\\n    - **유형:** 사립대학교\\n    - **위치:** 경북 경산시\\n    - **관련 웹페이지:** [영남대학교 웹페이지](http://www.yu.ac.kr/)\\n\\n12. **영산대학교**\\n    - **유형:** 사립대학교\\n    - **위치:** 경북 경산시\\n    - **관련 웹페이지:** [영산대학교 웹페이지](http://www.ysu.ac.kr/)\\n\\n위 대학들은 취업률이 높은 대학으로 알려져 있습니다. 추가적인 정보나 궁금한 점이 있으시면 언제든지 물어보세요!', additional_kwargs={}, response_metadata={}, name='University_DB_Researcher', id='085e7e24-d21f-4325-a2c9-c469200b6e54')]}}\n",
      "----\n",
      "{'supervisor': {'next': 'FINISH'}}\n",
      "----\n"
     ]
    }
   ],
   "source": [
    "for s in graph.stream({\n",
    "    \"messages\": [\n",
    "        HumanMessage(content=\"저는 기계공학과에 진학하고 싶고, 졸업 후 3D 프린팅 전문가로 일하고 싶은데, 이 직업에 적합한 전공 과목과 관련된 자격증, 그리고 이 전공을 제공하는 대학 중 취업률이 높은 대학은 어디인가요?\")\n",
    "    ]\n",
    "}):\n",
    "    if \"__end__\" not in s:\n",
    "        print(s)\n",
    "        print(\"----\")"
   ]
  },
  {
   "cell_type": "markdown",
   "metadata": {},
   "source": [
    "기계공학 전공에 대한 정보를 찾아보았습니다. \n",
    "\n",
    "### 졸업 후 3D 프린팅 전문가로 일하기 위한 정보:\n",
    "- **관련 전공 과목**: 기계설계, 열유체기계, 공조냉동기계, 생산용기계, 건축기계, 선박용기계, 발전관련 에너지 시스템 설계 및 제작기법 등\n",
    "- **관련 자격증**: 3D 프린팅 기술 관련 자격증을 취득하는 것이 도움이 될 수 있습니다.\n",
    "- **취업률이 높은 대학**: 국립공주대학교, 한국기술교육대학교, 국립군산대학교, 원광대학교, 전북대학교, 전주대학교, 전남대학교, 국립금오공과대학교, 국립안동대학교, 대구대학교, 영남대학교, 영산대학교 등이 있습니다.\n",
    "\n",
    "위 정보를 참고하여 기계공학 전공을 통해 3D 프린팅 전문가로 나아가는 데 도움이 될 것입니다. 추가로 교수님의 인터뷰도 참고하시면 좋을 것 같습니다."
   ]
  },
  {
   "cell_type": "markdown",
   "metadata": {},
   "source": [
    "### 취업률이 높은 대학 정보:\n",
    "\n",
    "1. **국립공주대학교**\n",
    "    - **유형:** 국립대학교\n",
    "    - **위치:** 충청남도 공주시\n",
    "    - **관련 웹페이지:** [국립공주대학교 웹페이지](https://www.kongju.ac.kr/)\n",
    "\n",
    "2. **한국기술교육대학교**\n",
    "    - **유형:** 국립대학교\n",
    "    - **위치:** 충청남도\n",
    "    - **관련 웹페이지:** [한국기술교육대학교 웹페이지](http://www.koreatech.ac.kr/)\n",
    "   \n",
    "3. **국립군산대학교**\n",
    "    - **유형:** 국립대학교\n",
    "    - **위치:** 전라북도 군산시\n",
    "    - **관련 웹페이지:** [국립군산대학교 웹페이지](http://www.kunsan.ac.kr/index.kunsan)\n",
    "\n",
    "4. **원광대학교**\n",
    "    - **유형:** 사립대학교\n",
    "    - **위치:** 전북 익산시\n",
    "    - **관련 웹페이지:** [원광대학교 웹페이지](http://www.wonkwang.ac.kr/)\n",
    "\n",
    "5. **전북대학교**\n",
    "    - **유형:** 국립대학교\n",
    "    - **위치:** 전북 전주시 덕진구\n",
    "    - **관련 웹페이지:** [전북대학교 웹페이지](http://www.jbnu.ac.kr/)\n",
    "\n",
    "6. **전주대학교**\n",
    "    - **유형:** 사립대학교\n",
    "    - **위치:** 전북 전주시 완산구\n",
    "    - **관련 웹페이지:** [전주대학교 웹페이지](http://www.jj.ac.kr/)\n",
    "\n",
    "7. **전남대학교**\n",
    "    - **유형:** 국립대학교\n",
    "    - **위치:** 광주 북구\n",
    "    - **관련 웹페이지:** [전남대학교 웹페이지](http://www.jnu.ac.kr/)\n",
    "\n",
    "8. **국립금오공과대학교**\n",
    "    - **유형:** 국립대학교\n",
    "    - **위치:** 경남 진주시\n",
    "    - **관련 웹페이지:** [국립금오공과대학교 웹페이지](http://www.kopo.ac.kr/jeonnam/index.do)\n",
    "\n",
    "9. **국립안동대학교**\n",
    "    - **유형:** 국립대학교\n",
    "    - **위치:** 경북 안동시\n",
    "    - **관련 웹페이지:** [국립안동대학교 웹페이지](http://www.andong.ac.kr/)\n",
    "\n",
    "10. **대구대학교**\n",
    "    - **유형:** 사립대학교\n",
    "    - **위치:** 대구광역시 달서구\n",
    "    - **관련 웹페이지:** [대구대학교 웹페이지](http://www.daegu.ac.kr/)\n",
    "\n",
    "11. **영남대학교**\n",
    "    - **유형:** 사립대학교\n",
    "    - **위치:** 경북 경산시\n",
    "    - **관련 웹페이지:** [영남대학교 웹페이지](http://www.yu.ac.kr/)\n",
    "\n",
    "12. **영산대학교**\n",
    "    - **유형:** 사립대학교\n",
    "    - **위치:** 경북 경산시\n",
    "    - **관련 웹페이지:** [영산대학교 웹페이지](http://www.ysu.ac.kr/)\n",
    "\n",
    "위 대학들은 취업률이 높은 대학으로 알려져 있습니다. 추가적인 정보나 궁금한 점이 있으시면 언제든지 물어보세요!'"
   ]
  },
  {
   "cell_type": "markdown",
   "metadata": {},
   "source": []
  }
 ],
 "metadata": {
  "kernelspec": {
   "display_name": ".venv",
   "language": "python",
   "name": "python3"
  },
  "language_info": {
   "codemirror_mode": {
    "name": "ipython",
    "version": 3
   },
   "file_extension": ".py",
   "mimetype": "text/x-python",
   "name": "python",
   "nbconvert_exporter": "python",
   "pygments_lexer": "ipython3",
   "version": "3.11.8"
  }
 },
 "nbformat": 4,
 "nbformat_minor": 2
}
