{
 "cells": [
  {
   "cell_type": "markdown",
   "metadata": {},
   "source": [
    "# Setting"
   ]
  },
  {
   "cell_type": "code",
   "execution_count": 1,
   "metadata": {},
   "outputs": [],
   "source": [
    "%%capture --no-stderr\n",
    "%pip install -U langgraph langchain langchain_openai langchain_experimental langsmith pandas"
   ]
  },
  {
   "cell_type": "code",
   "execution_count": 2,
   "metadata": {},
   "outputs": [],
   "source": [
    "%%capture --no-stderr\n",
    "%pip install -U --quiet langchain-community tiktoken langchain-openai langchainhub chromadb langchain langgraph langchain-text-splitters"
   ]
  },
  {
   "cell_type": "code",
   "execution_count": 3,
   "metadata": {},
   "outputs": [],
   "source": [
    "# 환경변수 불러오기\n",
    "import getpass\n",
    "import os\n",
    "\n",
    "def _set_env(var: str):\n",
    "    ''' 환경변수에 없으면 입력 받을 수 있게하는 함수 '''\n",
    "    if not os.environ.get(var):\n",
    "        os.environ[var] = getpass.getpass(f\"Please provide your {var}\")\n",
    "\n",
    "_set_env(\"OPENAI_API_KEY\")\n",
    "_set_env(\"TAVILY_API_KEY\")"
   ]
  },
  {
   "cell_type": "code",
   "execution_count": 196,
   "metadata": {},
   "outputs": [],
   "source": [
    "from langchain_openai import ChatOpenAI\n",
    "\n",
    "llm = ChatOpenAI(model=\"gpt-3.5-turbo-0125\", temperature=0) # gpt-4-turbo, gpt-4o-realtime-preview, gpt-4o-mini, gpt-4o"
   ]
  },
  {
   "cell_type": "markdown",
   "metadata": {},
   "source": [
    "# Supervisor Node\n",
    "\n",
    "- supervisor = LLM 노드 \n",
    "- Agent Router를 통해 적절한 에이전트를 라우팅하고, 작업 완료 여부 결정함."
   ]
  },
  {
   "cell_type": "code",
   "execution_count": 197,
   "metadata": {},
   "outputs": [],
   "source": [
    "from langchain_core.prompts import ChatPromptTemplate, MessagesPlaceholder\n",
    "\n",
    "from pydantic import BaseModel\n",
    "from typing import Literal\n",
    "\n",
    "\n",
    "# =========================[ 작업자 그룹 정의, 결정된 작업자 반환 양식 정의 ]==================================\n",
    "# members = [\"조사자\", \"상담사\"]\n",
    "members = [\"Researcher\"] # , \"Counselor\"\n",
    "options = [\"FINISH\"] + members\n",
    "\n",
    "class RouteResponse(BaseModel):\n",
    "    next: Literal[*options]\n",
    "\n",
    "\n",
    "# =========================[ 수퍼바이저 시스템 프롬프트 ]==================================\n",
    "# 한국어 프롬프트를 사용하려면 members 이름도 한국어로 해야함. 그리고 추가 설명도 해줘야 잘됨.\n",
    "# 영어로 할 때는 그냥 기본 프롬프트 쓰는게 더 잘됨. 추가 설명해주니까 오히려 틀림.\n",
    "# system_prompt = (\n",
    "#     \"당신은 대화를 관리하는 관리자(Supervisor) 역할을 맡고 있으며, {members}라는 작업자 그룹을 감독하게 됩니다. \" \n",
    "#     \"사용자 요청을 기반으로, 다음 작업을 수행할 작업자를 선택해 주세요. \"\n",
    "#     \"만약 사용자의 메시지가 정보 요청과 같은 질문 형태라면 '조사자'를 선택하세요. \"\n",
    "#     \"예를 들어, 진로, 직업 정보, 전공 또는 대학 정보 등과 같이 정보를 물어보는 질문일 경우 '조사자'가 적절합니다. \"\n",
    "#     \"반대로, 사용자의 메시지가 상담사의 질문에 대한 답변 형태라면 '상담사'를 선택하세요. \"\n",
    "#     \"각 작업자는 자신의 작업을 완료한 후 결과와 상태를 보고할 것입니다. \"\n",
    "#     \"모든 작업(task)이 완료되면 'FINISH'로 응답해 주세요.\"\n",
    "# )\n",
    "system_prompt = (\n",
    "    \"You are a supervisor tasked with managing a conversation between the\"\n",
    "    \" following workers:  {members}. Given the following user request,\"\n",
    "    \" respond with the worker to act next. Each worker will perform a\"\n",
    "    \" task and respond with their results and status. When finished,\"\n",
    "    \" respond with FINISH.\"\n",
    ")\n",
    "prompt = ChatPromptTemplate.from_messages(\n",
    "    [\n",
    "        (\"system\", system_prompt),\n",
    "        MessagesPlaceholder(variable_name=\"messages\"),\n",
    "        (\n",
    "            \"system\",\n",
    "            \"위 대화 내용을 바탕으로, 다음에 행동해야 할 작업자(worker)는 누구인가요? 또는 작업을 종료할 것인가요?\"\n",
    "            \"다음 옵션 중 하나를 선택해 주세요: {options}\",\n",
    "        ),\n",
    "    ]\n",
    ").partial(options=str(options), members=\", \".join(members))\n",
    "\n",
    "\n",
    "# =========================[ 수퍼바이저 정의 ]==================================\n",
    "def supervisor_agent(state):\n",
    "    \"\"\"Supervisor가 대화의 흐름을 제어하고 다음 작업을 수행할 에이전트를 선택\"\"\"\n",
    "    # 수퍼바이저(체인) : 시스템 프롬프트 + 반환 양식 \n",
    "    # LLM을 통해 적합한 작압자 선정한 후 양식에 맞게 반환.\n",
    "    supervisor_chain = prompt | llm.with_structured_output(RouteResponse)\n",
    "    return supervisor_chain.invoke(state)"
   ]
  },
  {
   "cell_type": "markdown",
   "metadata": {},
   "source": [
    "### [TEST] Supervisor\n",
    "\n",
    "---"
   ]
  },
  {
   "cell_type": "code",
   "execution_count": 183,
   "metadata": {},
   "outputs": [],
   "source": [
    "def test_supervisor(query):    \n",
    "    # 테스트를 위한 상태(state)를 설정 (사용자 메시지 시뮬레이션)\n",
    "    state = {\n",
    "        \"messages\": [\n",
    "            {\"role\": \"user\", \"content\": query},  # 사용자 질문\n",
    "        ]\n",
    "    }\n",
    "\n",
    "    # 수퍼바이저 에이전트 호출\n",
    "    response = supervisor_agent(state)\n",
    "    \n",
    "    # 결과 출력\n",
    "    print(f\"Supervisor 선택: {response.next}\")"
   ]
  },
  {
   "cell_type": "code",
   "execution_count": 184,
   "metadata": {},
   "outputs": [
    {
     "name": "stdout",
     "output_type": "stream",
     "text": [
      "Supervisor 선택: Researcher\n"
     ]
    }
   ],
   "source": [
    "# 진로상담 질의 -> Counselor\n",
    "# 이전 상담사 질문 가정 : 어떤 활동을 할 때 흥미를 느끼나요?\n",
    "query = \"저는 무언가를 만드는 것을 좋아합니다. 특히 컴퓨터로 프로그램을 만드는것이 재밌는 것 같아요\"\n",
    "test_supervisor(query)"
   ]
  },
  {
   "cell_type": "code",
   "execution_count": 185,
   "metadata": {},
   "outputs": [
    {
     "name": "stdout",
     "output_type": "stream",
     "text": [
      "Supervisor 선택: Researcher\n"
     ]
    }
   ],
   "source": [
    "# 진로정보검색 질의 -> Researcher\n",
    "test_supervisor(\"AI 엔지니어가 되려면 무엇을 준비해야 할까요?\")"
   ]
  },
  {
   "cell_type": "markdown",
   "metadata": {},
   "source": [
    "---"
   ]
  },
  {
   "cell_type": "markdown",
   "metadata": {},
   "source": [
    "# Agent State\n",
    "\n",
    "- `state` 객체는 그래프의 각 노드에 전달되는 상태.\n",
    "- state는 `messages`의 리스트가 됨.\n",
    "- 그래프의 각 노드가 여기에 추가됨. "
   ]
  },
  {
   "cell_type": "code",
   "execution_count": 198,
   "metadata": {},
   "outputs": [],
   "source": [
    "from typing import Annotated, Sequence\n",
    "from typing_extensions import TypedDict\n",
    "from langchain_core.messages import BaseMessage\n",
    "from langgraph.graph.message import add_messages\n",
    "import operator\n",
    "\n",
    "# Annotated는 Python 타입 힌팅에 사용되는 유틸리티, 첫 번째 인자 : 실제 타입, 두 번째 인자 : 타입이 어떻게 사용되거나 처리될지 정보\n",
    "# Sequence[BaseMessage] -> BaseMessage 객체를 담고 있는 시퀀스 타입(리스트, 튜플)\n",
    "# Annotated[]의 두 번째 인자 기본값은 replace\n",
    "# operator.add : 파이썬 기본 덧셈 연산, 여기서는 새로운 메시지가 추가될 때 기존 메시지 리스트에 더해져서 관리됨.\n",
    "# add_messages : LangGraph 상태 관리에 특화된 방식으로 메시지 추가(대화턴에 HumanMessage로 감싸진 대화가 추가됨)\n",
    "class AgentState(TypedDict):\n",
    "    messages: Annotated[Sequence[BaseMessage], add_messages]\n",
    "    next: str # 다음 라우팅할 곳"
   ]
  },
  {
   "cell_type": "markdown",
   "metadata": {},
   "source": [
    "### [TEST] Langgraph add_messsages VS Python operator.add\n",
    "\n",
    "---"
   ]
  },
  {
   "cell_type": "code",
   "execution_count": 187,
   "metadata": {},
   "outputs": [
    {
     "name": "stdout",
     "output_type": "stream",
     "text": [
      "operator.add 방식 결과: ['Message 1', 'Message 2', 'New Message using operator.add']\n",
      "add_messages 방식 결과: [HumanMessage(content='Message 1', additional_kwargs={}, response_metadata={}, id='4a2f5404-8442-4cbc-a1b4-4ff48a135543'), HumanMessage(content='Message 2', additional_kwargs={}, response_metadata={}, id='e6c954bf-f835-4662-ad60-9373a62a25e7'), HumanMessage(content='New Message using add_messages', additional_kwargs={}, response_metadata={}, id='fb0a9057-290e-4822-b2af-d125dd334212')]\n"
     ]
    }
   ],
   "source": [
    "from operator import add\n",
    "from typing import List\n",
    "from langgraph.graph.message import add_messages\n",
    "\n",
    "# 기존 메시지 리스트\n",
    "messages = [\"Message 1\", \"Message 2\"]\n",
    "\n",
    "# operator.add로 메시지 추가\n",
    "added_messages_operator = add(messages, [\"New Message using operator.add\"])\n",
    "\n",
    "\n",
    "# add_messages 방식으로 메시지 추가\n",
    "added_messages_custom = add_messages(messages, [\"New Message using add_messages\"])\n",
    "\n",
    "# 두 결과를 출력하여 비교\n",
    "print(\"operator.add 방식 결과:\", added_messages_operator)\n",
    "print(\"add_messages 방식 결과:\", added_messages_custom)"
   ]
  },
  {
   "cell_type": "markdown",
   "metadata": {},
   "source": [
    "---"
   ]
  },
  {
   "cell_type": "markdown",
   "metadata": {},
   "source": [
    "# Tools"
   ]
  },
  {
   "cell_type": "code",
   "execution_count": null,
   "metadata": {},
   "outputs": [],
   "source": [
    "# 스크래핑한 마크다운 파일로부터 벡터 DB 구축\n",
    "from langchain_community.document_loaders import UnstructuredMarkdownLoader\n",
    "from langchain.text_splitter import MarkdownHeaderTextSplitter, RecursiveCharacterTextSplitter\n",
    "from langchain.embeddings import OpenAIEmbeddings\n",
    "from langchain.vectorstores import Chroma\n",
    "from langchain.llms import OpenAI\n",
    "\n",
    "\n",
    "# UnstructuredMarkdownLoader를 사용하여 마크다운 파일을 로드합니다.\n",
    "file_path\n",
    "loader = UnstructuredMarkdownLoader(file_path)\n",
    "documents = loader.load()\n",
    "\n",
    "# MarkdownHeaderTextSplitter를 사용하여 헤더를 기준으로 청크로 분할\n",
    "headers_to_split_on = [\n",
    "    (\"#\", \"Header 1\"),\n",
    "    (\"##\", \"Header 2\"),\n",
    "    (\"###\", \"Header 3\"),\n",
    "]\n",
    "splitter = MarkdownHeaderTextSplitter(headers_to_split_on=headers_to_split_on, strip_headers=False)\n",
    "split_docs = splitter.split_documents(documents)\n",
    "\n",
    "# 청크를 문자 수 기준으로 다시 분할하는 부분\n",
    "chunk_size=1000\n",
    "chunk_overlap=100\n",
    "text_splitter = RecursiveCharacterTextSplitter(chunk_size=chunk_size, chunk_overlap=chunk_overlap)\n",
    "split_docs = text_splitter.split_documents(documents)\n",
    "\n",
    "# Chroma 벡터 스토어 설정\n",
    "embeddings = OpenAIEmbeddings()  # OpenAI의 임베딩 모델 사용\n",
    "persist_dir = \"\" # 벡터 DB 저장경로\n",
    "vectorstore = Chroma.from_documents(\n",
    "    documents=split_docs,\n",
    "    collection_name=\"rag-chroma\",\n",
    "    embeddings=embeddings, \n",
    "    persist_directory=persist_dir\n",
    ")\n",
    "\n",
    "retriever = vectorstore.as_retriever(\n",
    "    search_type=\"similarity\", # 유사도 검색 방식\n",
    "    search_kwargs={\"k\": 5} # 상위 탑 K 유사 문서 반환\n",
    ")  \n",
    "\n",
    "\n",
    "# test\n",
    "from langchain.chains import RetrievalQA\n",
    "llm = OpenAI(model=\"gpt-3.5-turbo\")  # OpenAI의 GPT 모델 사용\n",
    "qa_chain = RetrievalQA.from_chain_type(llm, retriever=retriever, chain_type=\"stuff\")\n",
    "\n",
    "# 예시 쿼리\n",
    "query = \"Markdown이란 무엇인가요?\"\n",
    "result = qa_chain.run(query)\n",
    "print(result)"
   ]
  },
  {
   "cell_type": "code",
   "execution_count": 199,
   "metadata": {},
   "outputs": [],
   "source": [
    "from langchain_community.tools.tavily_search import TavilySearchResults\n",
    "from langchain.tools.retriever import create_retriever_tool\n",
    "\n",
    "\n",
    "# 웹 검색 도구\n",
    "tavily_tool = TavilySearchResults(max_results=5)\n",
    "\n",
    "# 벡터 DB 검색 도구\n"
   ]
  },
  {
   "cell_type": "markdown",
   "metadata": {},
   "source": [
    "# Helper Utilities"
   ]
  },
  {
   "cell_type": "code",
   "execution_count": 200,
   "metadata": {},
   "outputs": [],
   "source": [
    "from langchain_core.messages import HumanMessage\n",
    "\n",
    "\n",
    "# 에이전트 호출하고, 그 결과 state를 HummanMessage 형식으로 변환\n",
    "# 에이전트가 생성한 응답을 사용자에게 전달하기 위함\n",
    "def agent_node(state, agent, name):\n",
    "    result = agent.invoke(state)\n",
    "    return {\n",
    "        \"messages\": [HumanMessage(content=result[\"messages\"][-1].content, name=name)]\n",
    "    }"
   ]
  },
  {
   "cell_type": "markdown",
   "metadata": {},
   "source": [
    "# Construct Graph"
   ]
  },
  {
   "cell_type": "markdown",
   "metadata": {},
   "source": [
    "## Define Worker(작업자) Node"
   ]
  },
  {
   "cell_type": "code",
   "execution_count": 201,
   "metadata": {},
   "outputs": [],
   "source": [
    "import functools\n",
    "from langgraph.prebuilt import create_react_agent # 단순히 자동으로 에이전트 만들어줌(커스터마이징 X)\n",
    "\n",
    "\n",
    "research_agent = create_react_agent(llm, tools=[tavily_tool])\n",
    "research_node = functools.partial(agent_node, agent=research_agent, name=\"Researcher\")"
   ]
  },
  {
   "cell_type": "markdown",
   "metadata": {},
   "source": [
    "## Define Workflow"
   ]
  },
  {
   "cell_type": "code",
   "execution_count": 202,
   "metadata": {},
   "outputs": [],
   "source": [
    "from langgraph.graph import END, StateGraph, START\n",
    "\n",
    "workflow = StateGraph(AgentState)\n",
    "workflow.add_node(\"Researcher\", research_node)\n",
    "workflow.add_node(\"supervisor\", supervisor_agent)\n",
    "\n",
    "# Worker가 작업을 완료하면 항상 Supervisor에게 Report Back(보고) 하는 구조로 설계\n",
    "for member in members:\n",
    "    workflow.add_edge(member, \"supervisor\")\n",
    "    \n",
    "# Supervisor은 노드로 라우팅되거나 완료되는 그래프 State의 'next' 필드를 채움.\n",
    "conditional_map = {k: k for k in members}\n",
    "conditional_map[\"FINISH\"] = END\n",
    "workflow.add_conditional_edges(\"supervisor\", lambda x: x[\"next\"], conditional_map)\n",
    "\n",
    "# entrypoint를 추가\n",
    "workflow.add_edge(START, \"supervisor\")\n",
    "\n",
    "graph = workflow.compile()"
   ]
  },
  {
   "cell_type": "markdown",
   "metadata": {},
   "source": [
    "# Display Graph"
   ]
  },
  {
   "cell_type": "code",
   "execution_count": 203,
   "metadata": {},
   "outputs": [
    {
     "data": {
      "image/jpeg": "[encoded data removed]",
      "text/plain": [
       "<IPython.core.display.Image object>"
      ]
     },
     "metadata": {},
     "output_type": "display_data"
    }
   ],
   "source": [
    "from IPython.display import Image, display\n",
    "\n",
    "try:\n",
    "    display(Image(graph.get_graph(xray=True).draw_mermaid_png()))\n",
    "except Exception:\n",
    "    # 여기에는 몇 가지 추가 종속성이 필요하며 선택 사항\n",
    "    pass"
   ]
  },
  {
   "cell_type": "markdown",
   "metadata": {},
   "source": [
    "# Invoke"
   ]
  },
  {
   "cell_type": "code",
   "execution_count": 204,
   "metadata": {},
   "outputs": [
    {
     "name": "stdout",
     "output_type": "stream",
     "text": [
      "{'supervisor': {'next': 'Researcher'}}\n",
      "----\n",
      "{'Researcher': {'messages': [HumanMessage(content='### 대학별 데이터 사이언스 관련 전공 리스트:\\n\\n#### Stanford University:\\n- [Data Science (B.S.) and Data Science & Social Systems (B.A.) majors](https://datasciencemajor.stanford.edu/)\\n- Stanford Data Science (SDS) community for research, application, and education\\n- Undergraduate B.S. Program focusing on training versatile data scientists\\n\\n#### Harvard University:\\n- [Master of Science (SM) degree in Data Science](https://www.harvard.edu/programs/data-science/)\\n- Program covers reproducible data analysis, collaborative problem solving, visualization, and more\\n- Joint academic leadership in Computer Science and Statistics faculties\\n\\n#### MIT:\\n- [MIT IDSSx offers online data science courses](https://idss.mit.edu/academics/idssx/)\\n- Applied Data Science Program: Leveraging AI for Effective Decision-Making\\n- Statistics and Data Science Center for research and education programs\\n\\n#### University of California, Berkeley:\\n- [Data Science Major](https://cdss.berkeley.edu/dsus/academics) in the College of Letters & Science\\n- Data science modules for hands-on engagement with relevant data sets\\n- HCE Program for core courses in the Data Science major and minor\\n\\n이렇게 대학별로 데이터 사이언스 관련 전공 정보를 요약해 보았습니다. 각 대학의 공식 웹사이트에서 더 자세한 정보를 확인할 수 있습니다.', additional_kwargs={}, response_metadata={}, name='Researcher', id='26574936-6bc3-4be0-8ba8-716730b4c791')]}}\n",
      "----\n",
      "{'supervisor': {'next': 'FINISH'}}\n",
      "----\n"
     ]
    }
   ],
   "source": [
    "for s in graph.stream({\n",
    "    \"messages\": [\n",
    "        HumanMessage(content=\"데이터 사이언티스트가 되고 싶은데 관련된 전공은 어떤게 있는지 각 대학별로 구분지어서 간단히 리스트업 해줘\")\n",
    "    ]\n",
    "}):\n",
    "    if \"__end__\" not in s:\n",
    "        print(s)\n",
    "        print(\"----\")"
   ]
  },
  {
   "cell_type": "markdown",
   "metadata": {},
   "source": [
    "# Result"
   ]
  },
  {
   "cell_type": "markdown",
   "metadata": {},
   "source": [
    "## Supervisor + Web Search Tool"
   ]
  },
  {
   "cell_type": "markdown",
   "metadata": {},
   "source": [
    "---\n",
    "\n",
    "### 대학별 데이터 사이언스 관련 전공 리스트:\n",
    "\n",
    "#### Stanford University:\n",
    "- [Data Science (B.S.) and Data Science & Social Systems (B.A.) majors](https://datasciencemajor.stanford.edu/)\n",
    "- Stanford Data Science (SDS) community for research, application, and education\n",
    "- Undergraduate B.S. Program focusing on training versatile data scientists\n",
    "\n",
    "#### Harvard University:\n",
    "- [Master of Science (SM) degree in Data Science](https://www.harvard.edu/programs/data-science/)\n",
    "- Program covers reproducible data analysis, collaborative problem solving, visualization, and more\n",
    "- Joint academic leadership in Computer Science and Statistics faculties\n",
    "\n",
    "#### MIT:\n",
    "- [MIT IDSSx offers online data science courses](https://idss.mit.edu/academics/idssx/)\n",
    "- Applied Data Science Program: Leveraging AI for Effective Decision-Making\n",
    "- Statistics and Data Science Center for research and education programs\n",
    "\n",
    "#### University of California, Berkeley:\n",
    "- [Data Science Major](https://cdss.berkeley.edu/dsus/academics) in the College of Letters & Science\n",
    "- Data science modules for hands-on engagement with relevant data sets\n",
    "- HCE Program for core courses in the Data Science major and minor\n",
    "\n",
    "이렇게 대학별로 데이터 사이언스 관련 전공 정보를 요약해 보았습니다. 각 대학의 공식 웹사이트에서 더 자세한 정보를 확인할 수 있습니다.\n",
    "\n",
    "---"
   ]
  },
  {
   "cell_type": "code",
   "execution_count": null,
   "metadata": {},
   "outputs": [],
   "source": [
    "for s in graph.stream(\n",
    "    {\"messages\": [HumanMessage(content=\"Write a brief research report on pikas.\")]},\n",
    "    {\"recursion_limit\": 100},\n",
    "):\n",
    "    if \"__end__\" not in s:\n",
    "        print(s)\n",
    "        print(\"----\")"
   ]
  }
 ],
 "metadata": {
  "kernelspec": {
   "display_name": ".venv",
   "language": "python",
   "name": "python3"
  },
  "language_info": {
   "codemirror_mode": {
    "name": "ipython",
    "version": 3
   },
   "file_extension": ".py",
   "mimetype": "text/x-python",
   "name": "python",
   "nbconvert_exporter": "python",
   "pygments_lexer": "ipython3",
   "version": "3.11.8"
  }
 },
 "nbformat": 4,
 "nbformat_minor": 2
}
